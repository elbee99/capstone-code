{
 "cells": [
  {
   "cell_type": "markdown",
   "id": "99fe2970-a858-4910-a848-ad6ad784d3d6",
   "metadata": {},
   "source": [
    "# Purpose of this notebook\n",
    "\n",
    "This notebook is for plotting data from CVs taken on two different areas using SECCM. The scans on different areas should be in different folders, and the separate folders will be plotted using different colours"
   ]
  },
  {
   "cell_type": "code",
   "execution_count": 9,
   "id": "91cacb79-39ac-4470-a589-52c15aa55153",
   "metadata": {},
   "outputs": [],
   "source": [
    "import matplotlib.pyplot as plt\n",
    "import numpy as np\n",
    "import os\n",
    "import csv\n",
    "from matplotlib.ticker import AutoMinorLocator\n",
    "from shapely.geometry import Polygon\n",
    "from matplotlib.lines import Line2D\n",
    "\n",
    "\n",
    "%matplotlib qt\n",
    "\n",
    "\n",
    "def gen_text_from_folder(folder):\n",
    "    \"\"\"\n",
    "    Takes a folder as argument and returns a tuple of (file_names\n",
    "    , text files) themselves as lists\n",
    "    \"\"\"\n",
    "    data_files = []\n",
    "    file_names = []\n",
    "    for root, dirs, files in os.walk(folder):\n",
    "        for file in files:\n",
    "            if file.endswith('.txt'):\n",
    "                if file[-8:-4] == 'info':\n",
    "                    pass\n",
    "                else:\n",
    "                    file_names.append(file)\n",
    "                    data_files.append(os.path.join(root,file))\n",
    "    return file_names,data_files\n",
    "\n",
    "def gen_array_from_text(data_file, file_name):\n",
    "    \"\"\"\n",
    "    Takes a data_file and file_name as arguments as strings\n",
    "    Returns a (V,I) tuple of potential and current arrays\n",
    "    \"\"\"\n",
    "    data = np.genfromtxt(data_file,skip_header=3)\n",
    "    data = np.hsplit(data,4)\n",
    "    V = data[1].flatten()\n",
    "    I = data[2].flatten()\n",
    "    return V,I\n",
    "\n",
    "\n",
    "def convert_cv_to_time(V,I,scan_rate):\n",
    "    \"\"\"\n",
    "\n",
    "    Parameters\n",
    "    ----------\n",
    "    V: potential array\n",
    "    I: current array\n",
    "    scan_rate: float of scan rate used\n",
    "    Returns\n",
    "    -------\n",
    "    Returns I,T arrays of current and time respectively\n",
    "\n",
    "    \"\"\"\n",
    "    potential_window=V[20]-V[5]\n",
    "    total_time = abs(potential_window/scan_rate)\n",
    "    time_between_points = total_time/len(V[5:20])\n",
    "    T = []\n",
    "    time = 0\n",
    "    for i in range(len(I)):\n",
    "        T.append(time)\n",
    "        time+=time_between_points\n",
    "\n",
    "    T = np.array(T)\n",
    "    return I,T\n",
    "\n",
    "def array_modifier(V,I,\n",
    "                double_scan = True,\n",
    "                smoothen = False,\n",
    "                normalize = False,\n",
    "                capacitance_normalize=None,\n",
    "                custom_normalize = False,\n",
    "                first_half_only = False,\n",
    "                tafel_plot = False,\n",
    "                reverse = False):\n",
    "\n",
    "        \"\"\"\n",
    "        Modifies the arrays in desired ways, returning the (V,I) tuple\n",
    "        \"\"\"\n",
    "\n",
    "        if double_scan == True:\n",
    "            V = V[512:]\n",
    "            I = I[512:]\n",
    "\n",
    "        if smoothen == True:\n",
    "            I = smooth(I,10)\n",
    "\n",
    "        if capacitance_normalize != False:\n",
    "            capacitance = find_capacitance(I,V,reverse=reverse)\n",
    "            # print(capacitance)\n",
    "            # scan_label += \", Capacitance = {:.3f} pF\".format(capacitance)\n",
    "            if capacitance != 0:\n",
    "                \n",
    "                I = I / capacitance\n",
    "                if reverse == False:\n",
    "                    shift = np.mean(I[5:50])\n",
    "                else:\n",
    "                    shift = np.mean(I[200:250])\n",
    "\n",
    "                I = I - shift\n",
    "            \n",
    "        if normalize == True:\n",
    "            shift = np.mean(I[5:50])\n",
    "            I = I - shift\n",
    "            I = normalize_func(I)\n",
    "        \n",
    "        if custom_normalize != None:\n",
    "            I = I/custom_normalize\n",
    "\n",
    "        \n",
    "        if first_half_only == True:\n",
    "            V = V[:len(V)//2]\n",
    "            I = I[:len(I)//2]\n",
    "            \n",
    "        if tafel_plot == True:\n",
    "            V = V[100:len(V)//2]\n",
    "            I = I[100:len(I)//2]\n",
    "            I = np.log10(abs(I)) #gets log of absolute value of current\n",
    "            V,I = I,V #swap axes\n",
    "        return V,I\n",
    "\n",
    "def smooth(y,box_pts):\n",
    "    box = np.ones(box_pts)/box_pts\n",
    "    y_smooth = np.convolve(y,box,mode='same')\n",
    "    return y_smooth\n",
    "\n",
    "def normalize_func(array):\n",
    "    \"\"\"\n",
    "\n",
    "    Parameters\n",
    "    ----------\n",
    "    array : a NumPy array one wishes to normalize (make such that the max\n",
    "    value = 1)\n",
    "\n",
    "    Returns\n",
    "    -------\n",
    "    Returns the given array normalized such that the max value = 1\n",
    "\n",
    "    \"\"\"\n",
    "    return array/max(abs(array))\n",
    "\n",
    "def find_capacitance(I,V,capacitance_pot_range = [-0.2,0.1],reverse=None,scan_rate=0.5):\n",
    "    \"\"\"\n",
    "\n",
    "    Parameters\n",
    "    ----------\n",
    "    I : ARRAY. The current array for which we want to find the capacitance\n",
    "    V : ARRAY. The voltage array for which we want to find the capacitance\n",
    "    capacitance_pot : list of 2 ints. The potential range over which we will\n",
    "    determine the capacitance\n",
    "\n",
    "    Returns\n",
    "    -------\n",
    "    capacitance\n",
    "    \n",
    "    This integrates current wrt time then finds capacitance this way\n",
    "    \"\"\"\n",
    "    potential_window = capacitance_pot_range[1]-capacitance_pot_range[0]\n",
    "    #convert potential window to volts if in millivolts\n",
    "    if potential_window > 5.0:\n",
    "        potential_window = potential_window/1000\n",
    "        \n",
    "    # print(\"len(v)/2)=\",len(V)/2)\n",
    "    first_half_V = V[0:int(len(V)/2)]\n",
    "    closest_pot_min = V[0]\n",
    "    for i in first_half_V:\n",
    "        #print('Checking',i,'mv')\n",
    "        if abs(i-capacitance_pot_range[0]) <= abs(closest_pot_min-capacitance_pot_range[0]):\n",
    "            closest_pot_min = i\n",
    "            \n",
    "    closest_pot_max = V[0]\n",
    "    for i in first_half_V: \n",
    "        #print('Checking',i,'mv')\n",
    "        if abs(i-capacitance_pot_range[1]) <= abs(closest_pot_max-capacitance_pot_range[1]):\n",
    "            closest_pot_max = i\n",
    "    # print('Closest potential found=',closest_pot_min,closest_pot_max)\n",
    "    #finds the indices of both values of potential which are closest to the desired\n",
    "    index_min = int(np.where(V == closest_pot_min)[0][0])\n",
    "    index_max = int(np.where(V == closest_pot_max)[0][0])\n",
    "    I,T = convert_cv_to_time(V,I,scan_rate)\n",
    "    area_forward = np.trapz(I[index_max:index_min],x=T[index_max:index_min])\n",
    "    area_backward = np.trapz(I[-index_min:-index_max],x=T[-index_min:-index_max])\n",
    "    area = area_backward-area_forward #the integral of current wrt time over given potential window\n",
    "    print(\"Area=\",area)\n",
    "    capacitance = area / (potential_window)\n",
    "    return capacitance\n",
    "\n",
    "\n",
    "def plotter(folders=[],colors=[],\n",
    "           saveas=None,\n",
    "           title=None,\n",
    "           double_scan=True,\n",
    "           scan_labels = [],\n",
    "           current_density=False,\n",
    "           diameter=7e-5,\n",
    "           linewidth=1.0,\n",
    "           legend=True,\n",
    "           normalize=False,\n",
    "           custom_normalize = [],\n",
    "           smoothen = False,\n",
    "           capacitance_normalize = False,\n",
    "           first_half_only = False,\n",
    "        custom_legend = False,\n",
    "        xlabel = None,\n",
    "        ylabel = None,\n",
    "           tafel_plot = False,\n",
    "           reverse = False):\n",
    "    \"\"\"\n",
    "    custom_normalize: list of lists (or similar iterable). Number of lists \n",
    "    must be equal to the number of folders, length of each internal list\n",
    "    must be equal to the number of valid files in the folder it matches\n",
    "    \"\"\"\n",
    "\n",
    "    fig, ax = plt.subplots(figsize=(8,4.5),dpi=100)\n",
    "    print('plot')\n",
    "    for i in range(len(folders)):\n",
    "        folder = folders[i]\n",
    "        file_names,data_files = gen_text_from_folder(folder)\n",
    "        if len(custom_normalize) == len(folders):\n",
    "            custom_normalize_list = list(custom_normalize[i])\n",
    "        else: \n",
    "            custom_normalize_list = None\n",
    "        V_list = []\n",
    "        I_list = []\n",
    "        for j in range(len(data_files)):\n",
    "            data_file = data_files[j]\n",
    "            file_name = file_names[j]\n",
    "            # print('len of data files = ',len(file_names),'len custom normalize list = ',len(custom_normalize_list))\n",
    "            if type(custom_normalize_list) == list:\n",
    "                custom_normalization_value = custom_normalize_list[j]\n",
    "            else:\n",
    "                custom_normalization_value = None\n",
    "            V, I = gen_array_from_text(data_file,file_name)\n",
    "            V,I = array_modifier(V,I,\n",
    "                    double_scan = double_scan,\n",
    "                    reverse = reverse,\n",
    "                    smoothen=smoothen,\n",
    "                    normalize = normalize,\n",
    "                    capacitance_normalize=capacitance_normalize,\n",
    "                    custom_normalize = custom_normalization_value,\n",
    "                    first_half_only=first_half_only,\n",
    "                    tafel_plot = tafel_plot)\n",
    "            ax.plot(V,I,color=colors[i],linewidth=linewidth)\n",
    "\n",
    "    if tafel_plot == True:\n",
    "        xlabel = \"log(Current)\"\n",
    "        ylabel = \"Potential (V)\"\n",
    "    ax.yaxis.set_minor_locator(AutoMinorLocator())\n",
    "    ax.yaxis.set_ticks_position('both')\n",
    "    ax.xaxis.set_minor_locator(AutoMinorLocator())\n",
    "    ax.grid(True)\n",
    "    ax.set_xlabel(xlabel)\n",
    "    ax.set_ylabel(ylabel)\n",
    "    if capacitance_normalize==True:\n",
    "        ax.set_ylabel(\"Current, normalized by capacitance\")\n",
    "    if title!=None:\n",
    "        if normalize == True:\n",
    "            title = title + \", normalized by current\"\n",
    "        if capacitance_normalize == True:\n",
    "            title = title + \", capacitance normalized\"\n",
    "        ax.set_title(title)\n",
    "    \n",
    "    if custom_legend == True:\n",
    "        custom_lines = [Line2D([0], [0], color=colors[0], lw=4),\n",
    "                Line2D([0], [0], color=colors[1], lw=4)]\n",
    "        ax.legend(custom_lines, ['Substrate','Ni NPs'])\n",
    "    if saveas!=None:\n",
    "        if normalize == True:\n",
    "            saveas += \"_currentnorm\"\n",
    "        if capacitance_normalize==True:\n",
    "            saveas += \"_capacitancenorm\"\n",
    "        if first_half_only==True:\n",
    "            saveas += \"_linear\"\n",
    "        if tafel_plot == True:\n",
    "            saveas += \"_tafel\"\n",
    "        fig.savefig(saveas,bbox_inches='tight')\n",
    "        print('saved')\n",
    "    plt.show()\n",
    "    \n",
    "def get_droplet_sizes(filepath):\n",
    "    \"\"\"\n",
    "    Generates NumPy array of the droplet sizes listed in a .csv\n",
    "    file generated by ImageJ\n",
    "    filepath: path to the desired .csv file\n",
    "    \"\"\"\n",
    "    # with open(filepath) as file_name:\n",
    "    #     array = np.loadtxt(file_name, delimiter=\",\")\n",
    "    data = np.genfromtxt(filepath,skip_header=1,delimiter=',')\n",
    "    data = np.hsplit(data,5)\n",
    "    droplet_area = data[1].flatten()\n",
    "    return droplet_area\n",
    "    "
   ]
  },
  {
   "cell_type": "code",
   "execution_count": 38,
   "id": "3a5714d9-ad67-43db-904b-97cbdb436b6c",
   "metadata": {},
   "outputs": [
    {
     "name": "stdout",
     "output_type": "stream",
     "text": [
      "plot\n"
     ]
    }
   ],
   "source": [
    "#SECCM on Ni NPs AND Ni@C NPs using 0.1 M H2SO4\n",
    "substrate_bare_folder = \"/home/larry/Documents/Capstone Project/Data/21-10-28 HER SECCM on Ni NPs/Ni NPs (no carbon shell)/linescan_1_substrate\"\n",
    "dropcast_bare_folder = \"/home/larry/Documents/Capstone Project/Data/21-10-28 HER SECCM on Ni NPs/Ni NPs (no carbon shell)/linescan_1_dropcast\"\n",
    "substrate_sputter_folder = \"/home/larry/Documents/Capstone Project/Data/21-10-28 HER SECCM on Ni NPs/Ni@C NPs/linescan_1_substrate\"\n",
    "dropcast_sputter_folder = \"/home/larry/Documents/Capstone Project/Data/21-10-28 HER SECCM on Ni NPs/Ni@C NPs/linescan_1_dropcast\"\n",
    "\n",
    "plotter(folders = [substrate_bare_folder,dropcast_bare_folder,substrate_sputter_folder,dropcast_sputter_folder],\n",
    "       colors = ['m','c','r','b'],\n",
    "       # first_half_only=True,\n",
    "       # capacitance_normalize=True,\n",
    "        normalize=True,\n",
    "        # tafel_plot=True\n",
    "       )"
   ]
  },
  {
   "cell_type": "code",
   "execution_count": 17,
   "id": "e97a74e7-c540-4819-b1fb-2b8697d4d270",
   "metadata": {
    "tags": []
   },
   "outputs": [
    {
     "name": "stdout",
     "output_type": "stream",
     "text": [
      "plot\n",
      "saved\n"
     ]
    }
   ],
   "source": [
    "#SECCM on just Ni NPs in 0.1M H2SO4\n",
    "substrate_folder = r\"/home/larry/Documents/Capstone Project/Data/21-10-28 HER SECCM on Ni NPs/Ni NPs (no carbon shell)/linescan_1_substrate\" \n",
    "dropcast_folder = r\"/home/larry/Documents/Capstone Project/Data/21-10-28 HER SECCM on Ni NPs/Ni NPs (no carbon shell)/linescan_1_dropcast\"\n",
    "saveas = r\"/home/larry/Documents/Capstone Project/Data/21-10-28 HER SECCM on Ni NPs/Ni NPs (no carbon shell)/Line scan 1 plot\"\n",
    "\n",
    "plotter(folders=[substrate_folder,dropcast_folder],colors=['r','b'],\n",
    "            custom_legend=True,\n",
    "            saveas=saveas,\n",
    "            title = \"HER SECCM on anC vs Ni NPs in 0.1 M H$_2$SO$_4$\",\n",
    "            xlabel=\"Potential vs PdH (V)\",ylabel=\"Current (nA)\",\n",
    "            # normalize=True,\n",
    "            first_half_only=True,\n",
    "            # capacitance_normalize=True,\n",
    "            # tafel_plot=True\n",
    "            )"
   ]
  },
  {
   "cell_type": "code",
   "execution_count": 47,
   "id": "34557f62-aaab-461b-9680-74ba88905f94",
   "metadata": {
    "tags": []
   },
   "outputs": [
    {
     "name": "stdout",
     "output_type": "stream",
     "text": [
      "plot\n",
      "saved\n"
     ]
    }
   ],
   "source": [
    "#SECCM on Ni@C NPs in 0.1M H2SO4\n",
    "substrate_folder = r\"/home/larry/Documents/Capstone Project/Data/21-10-28 HER SECCM on Ni NPs/Ni@C NPs/linescan_1_substrate\" \n",
    "dropcast_folder = r\"/home/larry/Documents/Capstone Project/Data/21-10-28 HER SECCM on Ni NPs/Ni@C NPs/linescan_1_dropcast\"\n",
    "saveas = r\"/home/larry/Documents/Capstone Project/Data/21-10-28 HER SECCM on Ni NPs/Ni@C NPs/Line scan 1 plot\"\n",
    "\n",
    "plotter(folders=[substrate_folder,dropcast_folder],colors=['r','b'],\n",
    "            custom_legend=True,\n",
    "            # saveas=saveas,\n",
    "            title = \"HER SECCM on anC vs Ni NPs in 0.1 M H$_2$SO$_4$\",\n",
    "            xlabel=\"Potential vs PdH (V)\",ylabel=\"Current (nA)\",\n",
    "            normalize=True,\n",
    "            first_half_only=True,\n",
    "            # capacitance_normalize=True,\n",
    "            # tafel_plot=True\n",
    "            )"
   ]
  },
  {
   "cell_type": "code",
   "execution_count": 40,
   "id": "6af49a17-bd4b-4415-a71a-30b1e0af6262",
   "metadata": {},
   "outputs": [
    {
     "name": "stdout",
     "output_type": "stream",
     "text": [
      "plot\n"
     ]
    }
   ],
   "source": [
    "#SECCM on Ni NPs at pH = 1.7\n",
    "substrate_folder = r\"/home/larry/Documents/Capstone Project/Data/21-10-21 HER SECCM (acid) Ni NPs (look for oxidation)/linescan_2_substrate\" \n",
    "dropcast_folder = r\"/home/larry/Documents/Capstone Project/Data/21-10-21 HER SECCM (acid) Ni NPs (look for oxidation)/linescan_2_dropcast\"\n",
    "saveas = r\"/home/larry/Documents/Capstone Project/Data/21-10-21 HER SECCM (acid) Ni NPs (look for oxidation)/Line scan 2 plot\"\n",
    "\n",
    "plotter(folders=[substrate_folder,dropcast_folder],colors=['r','b'],\n",
    "            custom_legend=True,\n",
    "            # saveas=saveas,\n",
    "            title = \"HER SECCM on anC vs Ni NPs at pH = 1.7\",\n",
    "            xlabel=\"Potential vs PdH (V)\",ylabel=\"Current (nA)\",\n",
    "            first_half_only=True,\n",
    "            # capacitance_normalize=True,\n",
    "            # reverse = True,\n",
    "            # tafel_plot=True\n",
    "            )"
   ]
  },
  {
   "cell_type": "code",
   "execution_count": 55,
   "id": "acf2f26e-afdd-4698-a550-bc483f263566",
   "metadata": {},
   "outputs": [
    {
     "name": "stdout",
     "output_type": "stream",
     "text": [
      "plot\n"
     ]
    }
   ],
   "source": [
    "#SECCM on Ni@C NPs (4') in 0.1M H2SO4\n",
    "substrate_folder = r\"/home/larry/Documents/Capstone Project/Data/21-10-20 HER SECCM (0.1M acid) Ni@C NPs/Pipette 1/Substrate and dropcast/linescan_8_substrate\" \n",
    "dropcast_folder = r\"/home/larry/Documents/Capstone Project/Data/21-10-20 HER SECCM (0.1M acid) Ni@C NPs/Pipette 1/Substrate and dropcast/linescan_8_dropcast\"\n",
    "saveas = r\"/home/larry/Documents/Capstone Project/Data/21-10-20 HER SECCM (0.1M acid) Ni@C NPs/Pipette 1/Substrate and dropcast/Line scan 8 plots\"\n",
    "\n",
    "plotter(folders=[substrate_folder,dropcast_folder],colors=['r','b'],\n",
    "            custom_legend=True,linewidth=0.7,\n",
    "            # saveas=saveas,\n",
    "            title = \"HER SECCM on anC vs Ni@C NPs in 0.1 M H$_2$SO$_4$\",\n",
    "            xlabel=\"Potential vs PdH (V)\",ylabel=\"Current (nA)\",\n",
    "            first_half_only=True,\n",
    "            # capacitance_normalize=True,\n",
    "            # reverse = True,\n",
    "            tafel_plot=True\n",
    "            )"
   ]
  },
  {
   "cell_type": "code",
   "execution_count": 47,
   "id": "74e36e78-f6b2-4fa3-aa3c-28e60702ff24",
   "metadata": {},
   "outputs": [
    {
     "name": "stdout",
     "output_type": "stream",
     "text": [
      "plot\n",
      "90 -0.39762 30 0.00082036\n",
      "90 -0.39762 30 0.00082036\n",
      "90 -0.39762 30 0.00082036\n",
      "90 -0.39762 30 0.00082036\n"
     ]
    }
   ],
   "source": [
    "#SECCM on Ni@C NPs (4') at pH = 1.7\n",
    "substrate_folder = r\"/home/larry/Documents/Capstone Project/Data/21-10-13 HER SECCM (acid) Ni@C NPs/Pipette 1/Substrate and dropcast/linescan_4_substrate\" \n",
    "dropcast_folder = r\"/home/larry/Documents/Capstone Project/Data/21-10-13 HER SECCM (acid) Ni@C NPs/Pipette 1/Substrate and dropcast/linescan_4_dropcast\"\n",
    "saveas = r\"/home/larry/Documents/Capstone Project/Data/21-10-13 HER SECCM (acid) Ni@C NPs/Pipette 1/Substrate and dropcast/linescan_4_comparison\"\n",
    "\n",
    "plotter(folders=[substrate_folder,dropcast_folder],colors=['r','b'],\n",
    "            custom_legend=True,linewidth=0.7,\n",
    "            # saveas=saveas,\n",
    "            title = \"HER SECCM on anC vs anC/Ni NPs at pH = 1.7\",\n",
    "            xlabel=\"Potential vs PdH (V)\",ylabel=\"Current (nA)\",\n",
    "            # first_half_only=True,\n",
    "            capacitance_normalize=True,\n",
    "            )"
   ]
  },
  {
   "cell_type": "code",
   "execution_count": 50,
   "id": "3ac5c7a4-9ccb-408c-9951-f907c9a9e52e",
   "metadata": {},
   "outputs": [
    {
     "name": "stdout",
     "output_type": "stream",
     "text": [
      "plot\n",
      "saved\n"
     ]
    }
   ],
   "source": [
    "#SECCM on Ni NPs at pH = 2\n",
    "substrate_folder = r\"/home/larry/Documents/Capstone Project/Data/21-10-04 SECCM on Ni NPs (acid)/Pipette 4/Substrate and drop-cast/scan_1_substrate\" \n",
    "dropcast_folder = r\"/home/larry/Documents/Capstone Project/Data/21-10-04 SECCM on Ni NPs (acid)/Pipette 4/Substrate and drop-cast/scan_1_dropcast\"\n",
    "saveas = r\"/home/larry/Documents/Capstone Project/Data/21-10-04 SECCM on Ni NPs (acid)/Pipette 4/Substrate and drop-cast/scan_1_tafel\"\n",
    "# filepath_substrate_sizes = \"/home/larry/Documents/Capstone Project/Data/21-10-04 SECCM on Ni NPs (acid)/Pipette 4/Substrate and drop-cast/scan_1_substrate_dropletsize.csv\"\n",
    "# filepath_dropcast_sizes = \"/home/larry/Documents/Capstone Project/Data/21-10-04 SECCM on Ni NPs (acid)/Pipette 4/Substrate and drop-cast/scan_1_dropcast_dropletsize.csv\"\n",
    "\n",
    "# substrate_custom_normalize = get_droplet_sizes(filepath_substrate_sizes)\n",
    "# dropcast_custom_normalize = get_droplet_sizes(filepath_substrate_sizes)\n",
    "plotter(folders=[substrate_folder,dropcast_folder],colors=['r','b'],\n",
    "            custom_legend=True,linewidth=0.7,\n",
    "            # saveas=saveas,\n",
    "            title = \"HER SECCM on anC vs anC/Ni NPs at pH = 1.7\",\n",
    "            xlabel=\"log(Current)\",ylabel=\"Potential vs PdH (V)\",\n",
    "            # custom_normalize = [substrate_custom_normalize,dropcast_custom_normalize],\n",
    "            first_half_only=True,\n",
    "            # capacitance_normalize=True,\n",
    "            tafel_plot = True,\n",
    "            )"
   ]
  },
  {
   "cell_type": "code",
   "execution_count": 49,
   "id": "eac5204f-e959-45a2-b1ba-076a7ea99ebc",
   "metadata": {},
   "outputs": [
    {
     "name": "stdout",
     "output_type": "stream",
     "text": [
      "plot\n"
     ]
    }
   ],
   "source": [
    "#SECCM on Cu NWs in 0.1M H2SO4\n",
    "substrate_folder = r\"/home/larry/Documents/Capstone Project/Data/21-10-07 SECCM on Cu NWs (0.1M acid)/linescan_3_substrate\" \n",
    "dropcast_folder = r\"/home/larry/Documents/Capstone Project/Data/21-10-07 SECCM on Cu NWs (0.1M acid)/linescan_3_dropcast\"\n",
    "saveas = r\"/home/larry/Documents/Capstone Project/Data/21-10-07 SECCM on Cu NWs (0.1M acid)/linescan3_comparison\"\n",
    "plotter(folders=[substrate_folder,dropcast_folder],colors=['r','b'],\n",
    "            custom_legend=True,linewidth=0.7,\n",
    "            # saveas=saveas,\n",
    "            title = \"HER SECCM on anC vs anC/Cu NWs w/ 0.1 M H$_2$SO$_4$\",\n",
    "            xlabel=\"Potential vs PdH (V)\",ylabel=\"Current (nA)\",\n",
    "            # first_half_only=True,\n",
    "            # capacitance_normalize=True,\n",
    "           )"
   ]
  },
  {
   "cell_type": "code",
   "execution_count": 55,
   "id": "ca753fb8-6ae5-414a-982d-7a6eab235bec",
   "metadata": {},
   "outputs": [
    {
     "name": "stdout",
     "output_type": "stream",
     "text": [
      "plot\n"
     ]
    }
   ],
   "source": [
    "##SECCM on Ni NPs in 0.1M H2SO4\n",
    "substrate_folder = r\"/home/larry/Documents/Capstone Project/Data/21-10-07 SECCM on Ni NPs (0.1M acid)/Pipette 2/linescan_2_substrate\" \n",
    "dropcast_folder = r\"/home/larry/Documents/Capstone Project/Data/21-10-07 SECCM on Ni NPs (0.1M acid)/Pipette 2/linescan_2_dropcast\"\n",
    "saveas = r\"/home/larry/Documents/Capstone Project/Data/21-10-07 SECCM on Ni NPs (0.1M acid)/Pipette 2/linescan2_comparison\"\n",
    "plotter(folders=[substrate_folder,dropcast_folder],colors=['r','b'],\n",
    "        custom_legend=True,linewidth=0.7,\n",
    "        # saveas=saveas,\n",
    "        title = \"HER SECCM on anC vs anC/Ni NPs w/ 0.1 M H$_2$SO$_4$\",\n",
    "        xlabel=\"Potential vs PdH (V)\",ylabel=\"Current (nA)\",\n",
    "        # first_half_only=True,\n",
    "        # capacitance_normalize=True,\n",
    "       )\n"
   ]
  },
  {
   "cell_type": "code",
   "execution_count": 5,
   "id": "25f274cc-6618-437e-b376-d9c9e835b805",
   "metadata": {},
   "outputs": [
    {
     "name": "stdout",
     "output_type": "stream",
     "text": [
      "plot\n",
      "saved\n"
     ]
    }
   ],
   "source": [
    "#SECCM on Ni NPs at pH=12\n",
    "substrate_folder = r\"/home/larry/Documents/Capstone Project/Data/21-10-06 SECCM on Ni NPs (base)/Pipette 1/Substrate and dropcast/scan_1_substrate\" \n",
    "dropcast_folder = r\"/home/larry/Documents/Capstone Project/Data/21-10-06 SECCM on Ni NPs (base)/Pipette 1/Substrate and dropcast/scan_1_dropcast\"\n",
    "saveas = r\"/home/larry/Documents/Capstone Project/Data/21-10-06 SECCM on Ni NPs (base)/Pipette 1/Substrate and dropcast/scan_1_comparison_capacitancenorm\"\n",
    "plotter(folders=[substrate_folder,dropcast_folder],colors=['r','b'],\n",
    "       custom_legend=True,linewidth=0.7,\n",
    "       saveas=saveas,\n",
    "       title = \"HER SECCM on anC vs anC/Ni NPs at pH=12\",\n",
    "       xlabel=\"Potential vs Pt (V)\",ylabel=\"Current (nA)\",\n",
    "       # first_half_only=True,\n",
    "       capacitance_normalize=True,\n",
    "       )"
   ]
  },
  {
   "cell_type": "code",
   "execution_count": 8,
   "id": "28fc66c2-8811-40ed-ace6-b42c6f23c070",
   "metadata": {},
   "outputs": [
    {
     "name": "stdout",
     "output_type": "stream",
     "text": [
      "plot\n",
      "saved\n"
     ]
    }
   ],
   "source": [
    "#SECCM on Ni NPs at pH=7\n",
    "substrate_folder = r\"/home/larry/Documents/Capstone Project/Data/21-09-28 SECCM on Ni NPs/Medium pipette 2/scan_1_substrate\" \n",
    "dropcast_folder = r\"/home/larry/Documents/Capstone Project/Data/21-09-28 SECCM on Ni NPs/Medium pipette 2/scan_1_dropcast\"\n",
    "saveas = r\"/home/larry/Documents/Capstone Project/Data/21-09-28 SECCM on Ni NPs/Medium pipette 2/scan_1_comparison_capacitancenorm\"\n",
    "plotter(folders=[substrate_folder,dropcast_folder],colors=['r','b'],\n",
    "       custom_legend=True,linewidth=0.7,\n",
    "       saveas=saveas,\n",
    "       title = \"HER SECCM on anC vs anC/Ni NPs at pH=7\",\n",
    "       xlabel=\"Potential vs Ag/AgCl (V)\",ylabel=\"Current, capacitance normalized\",\n",
    "       # first_half_only=True,\n",
    "       capacitance_normalize=True,\n",
    "       )"
   ]
  },
  {
   "cell_type": "code",
   "execution_count": 9,
   "id": "625e0227-cb73-4eed-92a4-16f6f9b44ec7",
   "metadata": {},
   "outputs": [
    {
     "name": "stdout",
     "output_type": "stream",
     "text": [
      "plot\n",
      "saved\n"
     ]
    }
   ],
   "source": [
    "#SECCM on Ni NPs at pH=7\n",
    "substrate_folder = r\"/home/larry/Documents/Capstone Project/Data/21-09-28 SECCM on Ni NPs/Medium pipette 2/scan_1_substrate\" \n",
    "dropcast_folder = r\"/home/larry/Documents/Capstone Project/Data/21-09-28 SECCM on Ni NPs/Medium pipette 2/scan_1_dropcast\"\n",
    "saveas = r\"/home/larry/Documents/Capstone Project/Data/21-09-28 SECCM on Ni NPs/Medium pipette 2/scan_1_comparison_capacitancenorm\"\n",
    "plotter(folders=[substrate_folder,dropcast_folder],colors=['r','b'],\n",
    "       custom_legend=True,linewidth=0.7,\n",
    "       saveas=saveas,\n",
    "       title = \"HER SECCM on anC vs anC/Ni NPs at pH=7\",\n",
    "       xlabel=\"Potential vs Ag/AgCl (V)\",ylabel=\"Current, capacitance normalized\",\n",
    "       # first_half_only=True,\n",
    "       capacitance_normalize=True,\n",
    "       )"
   ]
  },
  {
   "cell_type": "code",
   "execution_count": 10,
   "id": "5576b1d3-52a7-40f1-951c-040bcbfb447b",
   "metadata": {},
   "outputs": [
    {
     "name": "stdout",
     "output_type": "stream",
     "text": [
      "plot\n",
      "saved\n"
     ]
    }
   ],
   "source": []
  },
  {
   "cell_type": "code",
   "execution_count": null,
   "id": "995a228e-f16d-4797-bdef-9f0dadd82fec",
   "metadata": {},
   "outputs": [],
   "source": []
  }
 ],
 "metadata": {
  "kernelspec": {
   "display_name": "Python 3 (ipykernel)",
   "language": "python",
   "name": "python3"
  },
  "language_info": {
   "codemirror_mode": {
    "name": "ipython",
    "version": 3
   },
   "file_extension": ".py",
   "mimetype": "text/x-python",
   "name": "python",
   "nbconvert_exporter": "python",
   "pygments_lexer": "ipython3",
   "version": "3.9.7"
  }
 },
 "nbformat": 4,
 "nbformat_minor": 5
}
